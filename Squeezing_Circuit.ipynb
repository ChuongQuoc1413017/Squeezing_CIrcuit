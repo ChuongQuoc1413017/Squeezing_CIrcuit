{
 "cells": [
  {
   "cell_type": "code",
   "execution_count": 1,
   "metadata": {},
   "outputs": [],
   "source": [
    "import pennylane as qml\n",
    "import autograd.numpy as np_grad\n",
    "import numpy as np"
   ]
  },
  {
   "cell_type": "markdown",
   "metadata": {},
   "source": [
    "https://quantumcomputing.stackexchange.com/questions/17637/how-to-create-the-equivalent-of-the-qiskit-rxx-gate-in-pennylane\n",
    "\n",
    "https://pennylane.readthedocs.io/en/stable/code/api/pennylane.MultiRZ.html"
   ]
  },
  {
   "cell_type": "code",
   "execution_count": 15,
   "metadata": {},
   "outputs": [],
   "source": [
    "n_qubit = 10"
   ]
  },
  {
   "cell_type": "code",
   "execution_count": 16,
   "metadata": {},
   "outputs": [],
   "source": [
    "# def RXX(theta):\n",
    "#     rxx = np_grad.array([\n",
    "#         [np_grad.cos(theta/2), 0, 0, - 1j*np_grad.sin(theta/2)],\n",
    "#         [0, np_grad.cos(theta/2), - 1j*np_grad.sin(theta/2), 0],\n",
    "#         [0, - 1j*np_grad.sin(theta/2), np_grad.cos(theta/2), 0],\n",
    "#         [- 1j*np_grad.sin(theta/2), 0, 0, np_grad.cos(theta/2)]\n",
    "#     ])\n",
    "#     return rxx\n",
    "\n",
    "# def RZZ(theta):\n",
    "#     rzz = np.array([\n",
    "#         [np_grad.cos(theta/2) - 1j*np_grad.sin(theta/2), 0, 0, 0],\n",
    "#         [0, np_grad.cos(theta/2) + 1j*np_grad.sin(theta/2), 0, 0],\n",
    "#         [0, 0, np_grad.cos(theta/2) + 1j*np_grad.sin(theta/2), 0],\n",
    "#         [0, 0, 0, np_grad.cos(theta/2) - 1j*np_grad.sin(theta/2)]\n",
    "#     ])\n",
    "#     return rzz\n",
    "\n",
    "# dev = qml.device('default.qubit', wires=2)\n",
    "# @qml.qnode(dev)\n",
    "# def circuit(theta):\n",
    "#     qml.QubitUnitary(RXX(theta), wires=[0, 1])\n",
    "#     return qml.expval(qml.PauliZ(0))"
   ]
  },
  {
   "cell_type": "code",
   "execution_count": 17,
   "metadata": {},
   "outputs": [],
   "source": [
    "from pennylane.operation import Operation\n",
    "\n",
    "class RXX(Operation):\n",
    "    num_params = 1\n",
    "    num_wires = 2\n",
    "    par_domain = \"R\"\n",
    "\n",
    "    grad_method = \"A\"\n",
    "    grad_recipe = None # This is the default but we write it down explicitly here.\n",
    "\n",
    "    generator = [(qml.PauliX(0) @ qml.PauliX(1)).matrix, -0.5]\n",
    "\n",
    "    @staticmethod\n",
    "    def decomposition(theta, wires):\n",
    "        return [qml.PauliRot(theta, 'XX', wires=wires)]\n",
    "\n",
    "    @staticmethod\n",
    "    def _matrix(*params):\n",
    "        theta = params[0]\n",
    "        c = np.cos(0.5 * theta)\n",
    "        s = np.sin(0.5 * theta)\n",
    "        return np.array(\n",
    "            [\n",
    "                [c, 0, 0, -s],\n",
    "                [0, c, -s, 0],\n",
    "                [0, -s, c, 0],\n",
    "                [-s, 0, 0, c]\n",
    "            ]\n",
    "        )\n",
    "\n",
    "    def adjoint(self):\n",
    "        return RXX(-self.data[0], wires=self.wires)"
   ]
  },
  {
   "cell_type": "code",
   "execution_count": 18,
   "metadata": {},
   "outputs": [],
   "source": [
    "def squeezing(params):\n",
    "    \n",
    "    # RY gate\n",
    "    for i in range(n_qubit):\n",
    "        qml.RY(np_grad.pi/2, wires=i)\n",
    "    \n",
    "    # GMS_z gate\n",
    "    for i in range(n_qubit):\n",
    "        for j in range(i+1, n_qubit):\n",
    "            qml.MultiRZ(params[0][i][j], wires=[i, j])\n",
    "    \n",
    "    # RX gate\n",
    "    for i in range(n_qubit):\n",
    "        qml.RX(params[1][0][i], wires=i)\n",
    "    \n",
    "    # GMS_x gate\n",
    "    for i in range(n_qubit):\n",
    "        for j in range(i+1, n_qubit):\n",
    "            RXX(params[2][i][j], wires=[i, j])"
   ]
  },
  {
   "cell_type": "code",
   "execution_count": 19,
   "metadata": {},
   "outputs": [],
   "source": [
    "dev = qml.device('default.qubit', wires=n_qubit)\n",
    "\n",
    "@qml.qnode(dev)\n",
    "def squeezing_circuit_X(params):\n",
    "    \n",
    "    squeezing(params)\n",
    "#     qml.adjoint(squeezing)(params)\n",
    "    \n",
    "    # Measurement \n",
    "    return [qml.expval(qml.PauliX(i)) for i in range(n_qubit)]\n",
    "\n",
    "@qml.qnode(dev)\n",
    "def squeezing_circuit_Z(params):\n",
    "    \n",
    "    squeezing(params)\n",
    "#     qml.adjoint(squeezing)(params)\n",
    "    \n",
    "    # Measurement \n",
    "    return [qml.expval(qml.PauliZ(i)) for i in range(n_qubit)]"
   ]
  },
  {
   "cell_type": "code",
   "execution_count": 20,
   "metadata": {},
   "outputs": [],
   "source": [
    "def cost(params):\n",
    "    \n",
    "    expval_X = squeezing_circuit_X(params)\n",
    "    expval_Z = squeezing_circuit_Z(params)\n",
    "    \n",
    "    return len(expval_X)*np_grad.sum(expval_Z**2)/np_grad.sum(expval_X**2)"
   ]
  },
  {
   "cell_type": "code",
   "execution_count": 21,
   "metadata": {},
   "outputs": [],
   "source": [
    "params = np_grad.random.normal(size=(3, n_qubit, n_qubit))"
   ]
  },
  {
   "cell_type": "code",
   "execution_count": 23,
   "metadata": {},
   "outputs": [
    {
     "data": {
      "text/plain": [
       "tensor(2.47110123e-28, requires_grad=True)"
      ]
     },
     "execution_count": 23,
     "metadata": {},
     "output_type": "execute_result"
    }
   ],
   "source": [
    "cost(params)"
   ]
  },
  {
   "cell_type": "code",
   "execution_count": null,
   "metadata": {},
   "outputs": [],
   "source": [
    "opt = qml.AdamOptimizer()\n",
    "costs_array = [cost(params)]\n",
    "steps = 100\n",
    "for i in range(steps):\n",
    "    params = opt.step(cost, params)\n",
    "    costs_array.append(cost(params))"
   ]
  },
  {
   "cell_type": "code",
   "execution_count": null,
   "metadata": {},
   "outputs": [],
   "source": [
    "costs_array[-10:]"
   ]
  },
  {
   "cell_type": "code",
   "execution_count": null,
   "metadata": {},
   "outputs": [],
   "source": []
  }
 ],
 "metadata": {
  "kernelspec": {
   "display_name": "Python 3",
   "language": "python",
   "name": "python3"
  },
  "language_info": {
   "codemirror_mode": {
    "name": "ipython",
    "version": 3
   },
   "file_extension": ".py",
   "mimetype": "text/x-python",
   "name": "python",
   "nbconvert_exporter": "python",
   "pygments_lexer": "ipython3",
   "version": "3.7.6"
  }
 },
 "nbformat": 4,
 "nbformat_minor": 4
}
