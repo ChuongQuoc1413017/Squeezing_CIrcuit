{
 "cells": [
  {
   "cell_type": "code",
   "execution_count": 40,
   "metadata": {},
   "outputs": [],
   "source": [
    "import pennylane as qml\n",
    "import autograd.numpy as np_grad\n",
    "import numpy as np"
   ]
  },
  {
   "cell_type": "code",
   "execution_count": 19,
   "metadata": {},
   "outputs": [],
   "source": [
    "n_qubit = 5"
   ]
  },
  {
   "cell_type": "markdown",
   "metadata": {},
   "source": [
    "https://quantumcomputing.stackexchange.com/questions/17637/how-to-create-the-equivalent-of-the-qiskit-rxx-gate-in-pennylane"
   ]
  },
  {
   "cell_type": "code",
   "execution_count": 44,
   "metadata": {},
   "outputs": [],
   "source": [
    "def RXX(theta):\n",
    "    rxx = np.array([\n",
    "        [np.cos(theta/2), 0, 0, - 1j*np.sin(theta/2)],\n",
    "        [0, np.cos(theta/2), - 1j*np.sin(theta/2), 0],\n",
    "        [0, - 1j*np.sin(theta/2), np.cos(theta/2), 0],\n",
    "        [- 1j*np.sin(theta/2), 0, 0, np.cos(theta/2)]\n",
    "    ])\n",
    "    return rxx\n",
    "\n",
    "def RZZ(theta):\n",
    "    rzz = np.array([\n",
    "        [np.cos(theta/2) - 1j*np.sin(theta/2), 0, 0, 0],\n",
    "        [0, np.cos(theta/2) + 1j*np.sin(theta/2), 0, 0],\n",
    "        [0, 0, np.cos(theta/2) + 1j*np.sin(theta/2), 0],\n",
    "        [0, 0, 0, np.cos(theta/2) - 1j*np.sin(theta/2)]\n",
    "    ])\n",
    "    return rzz\n",
    "\n",
    "# dev = qml.device('default.qubit', wires=2)\n",
    "# @qml.qnode(dev)\n",
    "# def circuit(theta):\n",
    "#     qml.QubitUnitary(RXX(theta), wires=[0, 1])\n",
    "#     return qml.expval(qml.PauliZ(0))"
   ]
  },
  {
   "cell_type": "code",
   "execution_count": 36,
   "metadata": {},
   "outputs": [],
   "source": [
    "dev = qml.device('default.qubit', wires=n_qubit)\n",
    "\n",
    "@qml.qnode(dev)\n",
    "def squeezing_circuit(params):\n",
    "    \n",
    "    # RY gate\n",
    "    for i in range(n_qubit):\n",
    "        qml.RY(np_grad.pi/2, wires=i)\n",
    "    \n",
    "    # GMS_z gate\n",
    "    for i in range(n_qubit):\n",
    "        for j in range(i+1, n_qubit):\n",
    "            qml.QubitUnitary(RZZ(theta[0][i][j]), wires=[i, j])\n",
    "    \n",
    "    # RX gate\n",
    "    for i in range(n_qubit):\n",
    "        qml.RX(theta[1][i], wires=i)\n",
    "    \n",
    "    # GMS_x gate\n",
    "    for i in range(n_qubit):\n",
    "        for j in range(i+1, n_qubit):\n",
    "            qml.QubitUnitary(RXX(theta[2][i][j]), wires=[i, j])\n",
    "    \n",
    "    # Measurement \n",
    "    return [qml.expval(qml.PauliX(i)) for i in range(n_qubit)]"
   ]
  },
  {
   "cell_type": "code",
   "execution_count": null,
   "metadata": {},
   "outputs": [],
   "source": []
  }
 ],
 "metadata": {
  "kernelspec": {
   "display_name": "Python 3",
   "language": "python",
   "name": "python3"
  },
  "language_info": {
   "codemirror_mode": {
    "name": "ipython",
    "version": 3
   },
   "file_extension": ".py",
   "mimetype": "text/x-python",
   "name": "python",
   "nbconvert_exporter": "python",
   "pygments_lexer": "ipython3",
   "version": "3.7.6"
  }
 },
 "nbformat": 4,
 "nbformat_minor": 4
}
